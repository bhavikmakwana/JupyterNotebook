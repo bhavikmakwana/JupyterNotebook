{
 "cells": [
  {
   "cell_type": "markdown",
   "id": "2e84578d",
   "metadata": {},
   "source": [
    "## User Input Array "
   ]
  },
  {
   "cell_type": "code",
   "execution_count": null,
   "id": "a0d94123",
   "metadata": {},
   "outputs": [],
   "source": [
    "a = input().split()\n",
    "print(a)\n",
    "print(f'type of a ' , type(a))"
   ]
  },
  {
   "cell_type": "code",
   "execution_count": null,
   "id": "157d7981",
   "metadata": {},
   "outputs": [],
   "source": [
    "print('Enter element for list with space seprated')\n",
    "print('Enter size of the list ')\n",
    "size = int(input())\n",
    "list = []\n",
    "list = input().split()\n",
    "\n",
    "print(list)"
   ]
  },
  {
   "cell_type": "code",
   "execution_count": 2,
   "id": "1c7a53da",
   "metadata": {},
   "outputs": [
    {
     "name": "stdout",
     "output_type": "stream",
     "text": [
      "Jai Swaminarayan \n",
      "Das Na Das\n"
     ]
    }
   ],
   "source": [
    "print('Jai Swaminarayan \\nDas Na Das')"
   ]
  },
  {
   "cell_type": "code",
   "execution_count": 3,
   "id": "db4a2568",
   "metadata": {},
   "outputs": [
    {
     "name": "stdout",
     "output_type": "stream",
     "text": [
      "contains duplicate - \n",
      "[1, 3, 5, 2, 1, 7, 1]\n",
      "Unique values\n",
      "{1, 2, 3, 5, 7}\n"
     ]
    }
   ],
   "source": [
    "list = [1,3,5,2,1,7,1]\n",
    "print('contains duplicate - ')\n",
    "print(list)\n",
    "set = set(list)\n",
    "print('Unique values')\n",
    "print(set)"
   ]
  },
  {
   "cell_type": "markdown",
   "id": "f982351f",
   "metadata": {},
   "source": [
    "### Finding element which is uncommon in the list "
   ]
  },
  {
   "cell_type": "code",
   "execution_count": 14,
   "id": "2cfba41f",
   "metadata": {},
   "outputs": [
    {
     "data": {
      "text/plain": [
       "[3]"
      ]
     },
     "execution_count": 14,
     "metadata": {},
     "output_type": "execute_result"
    }
   ],
   "source": [
    "list1 = [2,1,5]\n",
    "list2 = [1,3,2]\n",
    "\n",
    "#cheking with list1 which is not there in list2 -> printing element from 2 but common element will not be consider\n",
    "[item for item in list2 if item not in list1]"
   ]
  },
  {
   "cell_type": "code",
   "execution_count": 3,
   "id": "b8c34d67",
   "metadata": {},
   "outputs": [
    {
     "name": "stdout",
     "output_type": "stream",
     "text": [
      "{3, 5}\n",
      "15\n"
     ]
    }
   ],
   "source": [
    "list1 = [2,1,5]\n",
    "list2 = [1,3,2]\n",
    "\n",
    "#result = set(list1) ^ set(list2)\n",
    "set_1 = set(list1)\n",
    "set_2 = set(list2)\n",
    "print(set_1 ^ set_2)\n",
    "\n",
    "print(7 ^ 8)"
   ]
  },
  {
   "cell_type": "markdown",
   "id": "ac68ca8a",
   "metadata": {},
   "source": [
    "### Swaping number from two var"
   ]
  },
  {
   "cell_type": "code",
   "execution_count": 8,
   "id": "20143140",
   "metadata": {},
   "outputs": [
    {
     "name": "stdout",
     "output_type": "stream",
     "text": [
      "before swap :- val1 : 1 and val2 : 2\n",
      "After swap :- val1 : 2 and val2 : 1\n"
     ]
    }
   ],
   "source": [
    "val1 = 1 \n",
    "val2 = 2\n",
    "\n",
    "print(f'before swap :- val1 : {val1} and val2 : {val2}')\n",
    "val1 = val1 ^ val2\n",
    "val2 = val1 ^ val2\n",
    "val1 = val1 ^ val2\n",
    "print(f'After swap :- val1 : {val1} and val2 : {val2}')"
   ]
  }
 ],
 "metadata": {
  "kernelspec": {
   "display_name": "Python 3 (ipykernel)",
   "language": "python",
   "name": "python3"
  },
  "language_info": {
   "codemirror_mode": {
    "name": "ipython",
    "version": 3
   },
   "file_extension": ".py",
   "mimetype": "text/x-python",
   "name": "python",
   "nbconvert_exporter": "python",
   "pygments_lexer": "ipython3",
   "version": "3.9.7"
  }
 },
 "nbformat": 4,
 "nbformat_minor": 5
}
