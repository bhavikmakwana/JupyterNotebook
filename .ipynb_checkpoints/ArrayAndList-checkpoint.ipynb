{
 "cells": [
  {
   "cell_type": "markdown",
   "id": "018c3585",
   "metadata": {},
   "source": [
    "## User Input Array "
   ]
  },
  {
   "cell_type": "code",
   "execution_count": null,
   "id": "a2f2dc03",
   "metadata": {},
   "outputs": [],
   "source": [
    "a = input().split()\n",
    "print(a)\n",
    "print(f'type of a ' , type(a))"
   ]
  },
  {
   "cell_type": "code",
   "execution_count": null,
   "id": "1817b4df",
   "metadata": {},
   "outputs": [],
   "source": []
  }
 ],
 "metadata": {
  "kernelspec": {
   "display_name": "Python 3 (ipykernel)",
   "language": "python",
   "name": "python3"
  },
  "language_info": {
   "codemirror_mode": {
    "name": "ipython",
    "version": 3
   },
   "file_extension": ".py",
   "mimetype": "text/x-python",
   "name": "python",
   "nbconvert_exporter": "python",
   "pygments_lexer": "ipython3",
   "version": "3.9.7"
  }
 },
 "nbformat": 4,
 "nbformat_minor": 5
}
